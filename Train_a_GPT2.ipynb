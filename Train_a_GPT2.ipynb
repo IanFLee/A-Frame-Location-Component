{
  "nbformat": 4,
  "nbformat_minor": 0,
  "metadata": {
    "colab": {
      "name": "Train a GPT2",
      "provenance": [],
      "collapsed_sections": [],
      "include_colab_link": true
    },
    "kernelspec": {
      "name": "python3",
      "display_name": "Python 3"
    },
    "accelerator": "GPU"
  },
  "cells": [
    {
      "cell_type": "markdown",
      "metadata": {
        "id": "view-in-github",
        "colab_type": "text"
      },
      "source": [
        "<a href=\"https://colab.research.google.com/github/IanFLee/A-Frame-Location-Component/blob/master/Train_a_GPT2.ipynb\" target=\"_parent\"><img src=\"https://colab.research.google.com/assets/colab-badge.svg\" alt=\"Open In Colab\"/></a>"
      ]
    },
    {
      "cell_type": "markdown",
      "metadata": {
        "id": "H7LoMj4GA4n_"
      },
      "source": [
        "#  Train a GPT-2 Text-Generating Model w/ GPU For Free \n",
        "\n",
        "by [Max Woolf](http://minimaxir.com)\n",
        "\n",
        "*Last updated: November 10th, 2019*\n",
        "\n",
        "Retrain an advanced text generating neural network on any text dataset **for free on a GPU using Collaboratory** using `gpt-2-simple`!\n",
        "\n",
        "For more about `gpt-2-simple`, you can visit [this GitHub repository](https://github.com/minimaxir/gpt-2-simple). You can also read my [blog post](https://minimaxir.com/2019/09/howto-gpt2/) for more information how to use this notebook!\n",
        "\n",
        "\n",
        "To get started:\n",
        "\n",
        "1. Copy this notebook to your Google Drive to keep it and save your changes. (File -> Save a Copy in Drive)\n",
        "2. Make sure you're running the notebook in Google Chrome.\n",
        "3. Run the cells below:\n"
      ]
    },
    {
      "cell_type": "code",
      "metadata": {
        "id": "KBkpRgBCBS2_",
        "colab": {
          "base_uri": "https://localhost:8080/"
        },
        "outputId": "38da110f-b2bd-4388-f54d-43687e842be7"
      },
      "source": [
        "%tensorflow_version 1.x\n",
        "!pip install -q gpt-2-simple\n",
        "import gpt_2_simple as gpt2\n",
        "import tensorflow as tf\n",
        "from datetime import datetime\n",
        "from google.colab import files"
      ],
      "execution_count": null,
      "outputs": [
        {
          "output_type": "stream",
          "text": [
            "TensorFlow 1.x selected.\n",
            "  Building wheel for gpt-2-simple (setup.py) ... \u001b[?25l\u001b[?25hdone\n",
            "WARNING:tensorflow:\n",
            "The TensorFlow contrib module will not be included in TensorFlow 2.0.\n",
            "For more information, please see:\n",
            "  * https://github.com/tensorflow/community/blob/master/rfcs/20180907-contrib-sunset.md\n",
            "  * https://github.com/tensorflow/addons\n",
            "  * https://github.com/tensorflow/io (for I/O related ops)\n",
            "If you depend on functionality not listed there, please file an issue.\n",
            "\n"
          ],
          "name": "stdout"
        }
      ]
    },
    {
      "cell_type": "markdown",
      "metadata": {
        "id": "Bj2IJLHP3KwE"
      },
      "source": [
        "## GPU\n",
        "\n",
        "Colaboratory uses either a Nvidia T4 GPU or an Nvidia K80 GPU. The T4 is slightly faster than the old K80 for training GPT-2, and has more memory allowing you to train the larger GPT-2 models and generate more text.\n",
        "\n",
        "You can verify which GPU is active by running the cell below."
      ]
    },
    {
      "cell_type": "code",
      "metadata": {
        "id": "YJ29a3eBDppn"
      },
      "source": [
        ""
      ],
      "execution_count": null,
      "outputs": []
    },
    {
      "cell_type": "code",
      "metadata": {
        "id": "sUmTooTW3osf",
        "colab": {
          "base_uri": "https://localhost:8080/"
        },
        "outputId": "b72167fc-bcea-4600-c1dd-97cef0670318"
      },
      "source": [
        "!nvidia-smi"
      ],
      "execution_count": null,
      "outputs": [
        {
          "output_type": "stream",
          "text": [
            "Wed Dec  9 22:48:25 2020       \n",
            "+-----------------------------------------------------------------------------+\n",
            "| NVIDIA-SMI 455.45.01    Driver Version: 418.67       CUDA Version: 10.1     |\n",
            "|-------------------------------+----------------------+----------------------+\n",
            "| GPU  Name        Persistence-M| Bus-Id        Disp.A | Volatile Uncorr. ECC |\n",
            "| Fan  Temp  Perf  Pwr:Usage/Cap|         Memory-Usage | GPU-Util  Compute M. |\n",
            "|                               |                      |               MIG M. |\n",
            "|===============================+======================+======================|\n",
            "|   0  Tesla T4            Off  | 00000000:00:04.0 Off |                    0 |\n",
            "| N/A   37C    P8     9W /  70W |      0MiB / 15079MiB |      0%      Default |\n",
            "|                               |                      |                 ERR! |\n",
            "+-------------------------------+----------------------+----------------------+\n",
            "                                                                               \n",
            "+-----------------------------------------------------------------------------+\n",
            "| Processes:                                                                  |\n",
            "|  GPU   GI   CI        PID   Type   Process name                  GPU Memory |\n",
            "|        ID   ID                                                   Usage      |\n",
            "|=============================================================================|\n",
            "|  No running processes found                                                 |\n",
            "+-----------------------------------------------------------------------------+\n"
          ],
          "name": "stdout"
        }
      ]
    },
    {
      "cell_type": "markdown",
      "metadata": {
        "id": "0wXB05bPDYxS"
      },
      "source": [
        "## Downloading GPT-2\n",
        "\n",
        "If you're retraining a model on new text, you need to download the GPT-2 model first. \n",
        "\n",
        "There are three released sizes of GPT-2:\n",
        "\n",
        "* `124M` (default): the \"small\" model, 500MB on disk.\n",
        "* `355M`: the \"medium\" model, 1.5GB on disk.\n",
        "* `774M`: the \"large\" model, cannot currently be finetuned with Colaboratory but can be used to generate text from the pretrained model (see later in Notebook)\n",
        "* `1558M`: the \"extra large\", true model. Will not work if a K80 GPU is attached to the notebook. (like `774M`, it cannot be finetuned).\n",
        "\n",
        "Larger models have more knowledge, but take longer to finetune and longer to generate text. You can specify which base model to use by changing `model_name` in the cells below.\n",
        "\n",
        "The next cell downloads it from Google Cloud Storage and saves it in the Colaboratory VM at `/models/<model_name>`.\n",
        "\n",
        "This model isn't permanently saved in the Colaboratory VM; you'll have to redownload it if you want to retrain it at a later time."
      ]
    },
    {
      "cell_type": "code",
      "metadata": {
        "id": "NRsQYmvzDyCX"
      },
      "source": [
        ""
      ],
      "execution_count": null,
      "outputs": []
    },
    {
      "cell_type": "code",
      "metadata": {
        "id": "P8wSlgXoDPCR",
        "colab": {
          "base_uri": "https://localhost:8080/"
        },
        "outputId": "9a920909-7763-4ad5-e032-58c58e909769"
      },
      "source": [
        "small_model = gpt2.download_gpt2(model_name=\"124M\")"
      ],
      "execution_count": null,
      "outputs": [
        {
          "output_type": "stream",
          "text": [
            "Fetching checkpoint: 1.05Mit [00:00, 272Mit/s]                                                      \n",
            "Fetching encoder.json: 1.05Mit [00:00, 88.8Mit/s]                                                   \n",
            "Fetching hparams.json: 1.05Mit [00:00, 1.18Git/s]                                                   \n",
            "Fetching model.ckpt.data-00000-of-00001: 498Mit [00:01, 278Mit/s]                                   \n",
            "Fetching model.ckpt.index: 1.05Mit [00:00, 363Mit/s]                                                \n",
            "Fetching model.ckpt.meta: 1.05Mit [00:00, 186Mit/s]                                                 \n",
            "Fetching vocab.bpe: 1.05Mit [00:00, 207Mit/s]                                                       \n"
          ],
          "name": "stderr"
        }
      ]
    },
    {
      "cell_type": "markdown",
      "metadata": {
        "id": "N8KXuKWzQSsN"
      },
      "source": [
        "## Mounting Google Drive\n",
        "\n",
        "The best way to get input text to-be-trained into the Colaboratory VM, and to get the trained model *out* of Colaboratory, is to route it through Google Drive *first*.\n",
        "\n",
        "Running this cell (which will only work in Colaboratory) will mount your personal Google Drive in the VM, which later cells can use to get data in/out. (it will ask for an auth code; that auth is not saved anywhere)"
      ]
    },
    {
      "cell_type": "code",
      "metadata": {
        "id": "puq4iC6vUAHc",
        "colab": {
          "base_uri": "https://localhost:8080/"
        },
        "outputId": "c84d9053-66c3-460f-e45e-1ba490b9b776"
      },
      "source": [
        "gpt2.mount_gdrive()"
      ],
      "execution_count": null,
      "outputs": [
        {
          "output_type": "stream",
          "text": [
            "Mounted at /content/drive\n"
          ],
          "name": "stdout"
        }
      ]
    },
    {
      "cell_type": "code",
      "metadata": {
        "id": "t7KGmfqNFHsK"
      },
      "source": [
        "#import tensorflow as tf\n",
        "# tf.reset_default_graph()\n",
        "# sess = gpt2.start_tf_sess()"
      ],
      "execution_count": null,
      "outputs": []
    },
    {
      "cell_type": "markdown",
      "metadata": {
        "id": "BT__brhBCvJu"
      },
      "source": [
        "## Uploading a Text File to be Trained to Colaboratory\n",
        "\n",
        "In the Colaboratory Notebook sidebar on the left of the screen, select *Files*. From there you can upload files:\n",
        "\n",
        "![alt text](https://i.imgur.com/TGcZT4h.png)\n",
        "\n",
        "Upload **any smaller text file**  (<10 MB) and update the file name in the cell below, then run the cell."
      ]
    },
    {
      "cell_type": "code",
      "metadata": {
        "id": "6OFnPCLADfll"
      },
      "source": [
        "file_name = \"st john written training data.txt\""
      ],
      "execution_count": null,
      "outputs": []
    },
    {
      "cell_type": "markdown",
      "metadata": {
        "id": "HeeSKtNWUedE"
      },
      "source": [
        "If your text file is larger than 10MB, it is recommended to upload that file to Google Drive first, then copy that file from Google Drive to the Colaboratory VM."
      ]
    },
    {
      "cell_type": "code",
      "metadata": {
        "id": "-Z6okFD8VKtS"
      },
      "source": [
        "gpt2.copy_file_from_gdrive(file_name)"
      ],
      "execution_count": null,
      "outputs": []
    },
    {
      "cell_type": "code",
      "metadata": {
        "colab": {
          "base_uri": "https://localhost:8080/",
          "height": 298
        },
        "id": "Ips48ZUOnyaP",
        "outputId": "9feacae0-07f8-406b-8d17-b2d21b122130"
      },
      "source": [
        "gpt2.copy_file_to_gdrive(tf)"
      ],
      "execution_count": null,
      "outputs": [
        {
          "output_type": "error",
          "ename": "TypeError",
          "evalue": "ignored",
          "traceback": [
            "\u001b[0;31m---------------------------------------------------------------------------\u001b[0m",
            "\u001b[0;31mTypeError\u001b[0m                                 Traceback (most recent call last)",
            "\u001b[0;32m<ipython-input-8-19228b3d6d21>\u001b[0m in \u001b[0;36m<module>\u001b[0;34m()\u001b[0m\n\u001b[0;32m----> 1\u001b[0;31m \u001b[0mgpt2\u001b[0m\u001b[0;34m.\u001b[0m\u001b[0mcopy_file_to_gdrive\u001b[0m\u001b[0;34m(\u001b[0m\u001b[0mtf\u001b[0m\u001b[0;34m)\u001b[0m\u001b[0;34m\u001b[0m\u001b[0;34m\u001b[0m\u001b[0m\n\u001b[0m",
            "\u001b[0;32m/usr/local/lib/python3.6/dist-packages/gpt_2_simple/gpt_2.py\u001b[0m in \u001b[0;36mcopy_file_to_gdrive\u001b[0;34m(file_path)\u001b[0m\n\u001b[1;32m    604\u001b[0m     \u001b[0mis_mounted\u001b[0m\u001b[0;34m(\u001b[0m\u001b[0;34m)\u001b[0m\u001b[0;34m\u001b[0m\u001b[0;34m\u001b[0m\u001b[0m\n\u001b[1;32m    605\u001b[0m \u001b[0;34m\u001b[0m\u001b[0m\n\u001b[0;32m--> 606\u001b[0;31m     \u001b[0mshutil\u001b[0m\u001b[0;34m.\u001b[0m\u001b[0mcopyfile\u001b[0m\u001b[0;34m(\u001b[0m\u001b[0mfile_path\u001b[0m\u001b[0;34m,\u001b[0m \u001b[0;34m\"/content/drive/My Drive/\"\u001b[0m \u001b[0;34m+\u001b[0m \u001b[0mfile_path\u001b[0m\u001b[0;34m)\u001b[0m\u001b[0;34m\u001b[0m\u001b[0;34m\u001b[0m\u001b[0m\n\u001b[0m\u001b[1;32m    607\u001b[0m \u001b[0;34m\u001b[0m\u001b[0m\n\u001b[1;32m    608\u001b[0m \u001b[0;34m\u001b[0m\u001b[0m\n",
            "\u001b[0;31mTypeError\u001b[0m: must be str, not TFModuleWrapper"
          ]
        }
      ]
    },
    {
      "cell_type": "markdown",
      "metadata": {
        "id": "LdpZQXknFNY3"
      },
      "source": [
        "\n",
        "## Finetune GPT-2\n",
        "\n",
        "The next cell will start the actual finetuning of GPT-2. It creates a persistent TensorFlow session which stores the training config, then runs the training for the specified number of `steps`. (to have the finetuning run indefinitely, set `steps = -1`)\n",
        "\n",
        "The model checkpoints will be saved in `/checkpoint/run1` by default. The checkpoints are saved every 500 steps (can be changed) and when the cell is stopped.\n",
        "\n",
        "The training might time out after 4ish hours; make sure you end training and save the results so you don't lose them!\n",
        "\n",
        "**IMPORTANT NOTE:** If you want to rerun this cell, **restart the VM first** (Runtime -> Restart Runtime). You will need to rerun imports but not recopy files.\n",
        "\n",
        "Other optional-but-helpful parameters for `gpt2.finetune`:\n",
        "\n",
        "\n",
        "*  **`restore_from`**: Set to `fresh` to start training from the base GPT-2, or set to `latest` to restart training from an existing checkpoint.\n",
        "* **`sample_every`**: Number of steps to print example output\n",
        "* **`print_every`**: Number of steps to print training progress.\n",
        "* **`learning_rate`**:  Learning rate for the training. (default `1e-4`, can lower to `1e-5` if you have <1MB input data)\n",
        "*  **`run_name`**: subfolder within `checkpoint` to save the model. This is useful if you want to work with multiple models (will also need to specify  `run_name` when loading the model)\n",
        "* **`overwrite`**: Set to `True` if you want to continue finetuning an existing model (w/ `restore_from='latest'`) without creating duplicate copies. "
      ]
    },
    {
      "cell_type": "code",
      "metadata": {
        "id": "aeXshJM-Cuaf",
        "colab": {
          "base_uri": "https://localhost:8080/"
        },
        "outputId": "19b7520f-643c-417b-a4f9-861a642b4404"
      },
      "source": [
        "tf.reset_default_graph()\n",
        "\n",
        "sess = gpt2.start_tf_sess()\n",
        "\n",
        "gpt2.finetune(sess,\n",
        "              dataset=file_name,\n",
        "              model_name='124M',\n",
        "              steps=500,\n",
        "              restore_from='fresh',\n",
        "              run_name='stjohn2',\n",
        "              print_every=10,\n",
        "              sample_every=200,\n",
        "              save_every=500\n",
        "              )"
      ],
      "execution_count": null,
      "outputs": [
        {
          "output_type": "stream",
          "text": [
            "WARNING:tensorflow:From /usr/local/lib/python3.6/dist-packages/gpt_2_simple/src/sample.py:17: where (from tensorflow.python.ops.array_ops) is deprecated and will be removed in a future version.\n",
            "Instructions for updating:\n",
            "Use tf.where in 2.0, which has the same broadcast rule as np.where\n",
            "Loading checkpoint models/124M/model.ckpt\n",
            "INFO:tensorflow:Restoring parameters from models/124M/model.ckpt\n"
          ],
          "name": "stdout"
        },
        {
          "output_type": "stream",
          "text": [
            "\r  0%|          | 0/1 [00:00<?, ?it/s]"
          ],
          "name": "stderr"
        },
        {
          "output_type": "stream",
          "text": [
            "Loading dataset...\n"
          ],
          "name": "stdout"
        },
        {
          "output_type": "stream",
          "text": [
            "100%|██████████| 1/1 [00:00<00:00,  2.66it/s]\n"
          ],
          "name": "stderr"
        },
        {
          "output_type": "stream",
          "text": [
            "dataset has 50623 tokens\n",
            "Training...\n",
            "[10 | 28.55] loss=3.36 avg=3.36\n",
            "[20 | 50.13] loss=3.02 avg=3.19\n",
            "[30 | 72.02] loss=2.80 avg=3.06\n",
            "[40 | 94.23] loss=2.38 avg=2.88\n",
            "[50 | 116.85] loss=1.95 avg=2.69\n",
            "[60 | 139.84] loss=2.19 avg=2.61\n",
            "[70 | 163.13] loss=1.95 avg=2.51\n",
            "[80 | 186.79] loss=1.51 avg=2.38\n",
            "[90 | 210.51] loss=1.52 avg=2.28\n",
            "[100 | 234.06] loss=1.19 avg=2.17\n",
            "[110 | 257.66] loss=0.84 avg=2.04\n",
            "[120 | 281.51] loss=0.73 avg=1.93\n",
            "[130 | 305.32] loss=0.27 avg=1.79\n",
            "[140 | 329.08] loss=0.40 avg=1.68\n",
            "[150 | 352.78] loss=0.42 avg=1.59\n",
            "[160 | 376.52] loss=0.28 avg=1.51\n",
            "[170 | 400.31] loss=0.20 avg=1.42\n",
            "[180 | 424.16] loss=0.21 avg=1.35\n",
            "[190 | 447.97] loss=0.12 avg=1.28\n",
            "[200 | 471.74] loss=0.14 avg=1.22\n",
            "======== SAMPLE 1 ========\n",
            " parents to dig up the mangled remains of their own home. One woman had taken the lever back and we broke in to tell her story.\n",
            "\tThe party had been terribly distressing to say the least. One of the guests had had taken a bite out of the tablecloth in front of us; his name was Preston. He was in his early forties, he looked halfway his sophomore, and he was holding a glass mug in both his hands. \"I was at the party, and I don’t recall much about the function of the party, but I must have been living up to its description, because I got to come out later and say that I had just witnessed the grand dissolution of the human race by the return of the alien implant. And listen, buddy, what is a golden age, and what is a decay? And what is civilization, and who is to be found in this age.\n",
            "And listen, I did learn something recently, which is that the more that one presents themselves to be human, the less empathy they will have for those who are not. And listen, I have a feeling this person needs to be told this fact. I think he or she might say, “I was almost at the party. Great music was playing, it was late autumn, and there were still a great deal of leaves in the fruit trees. And I was standing in the small party, and I say ‘who am we?” And I want to know who it would be like to be in their lives.\n",
            "“Who are you, Christian?” He said, looking at me across the table at the three grown heads in the corner. “You know,” he said with a look of profound sadness in his eyes, “I don’t believe there was a doctor in this room that evening, man.” And he looked at me and stared at the ceiling for a moment, then he looked back at me and said, “I encourage you to face your fears.”\n",
            "“Yes,” I said. “Face your fears.” And I did. I stood at the close of the party and people were leaving very quickly (there were many people leaving very quickly) and talking very loudly (everyone making out very quickly) about what good would come from facing our fears, which is to say, we placed great importance on facing our fears. Things got ugly quickly, as usual.\n",
            "“There was an accident, you know, a hand pulling at your hair, came in contact with something, and you just knew it, and it was oily, and it had to be peeled off.” I don’t know if it was my finger, or if it was oily, but it was a big worry that if it were I’d like to be revealed to the dragon.\n",
            "“Oh yeah,” Ms. Fujisaki said. “You could always just bite your tongue out there.”\n",
            "“I don’t suppose you’ve heard about Tongue Washing machine?” I said.\n",
            "“Yeah. It cleans up after you, isn’t it man?”\n",
            "“It does allow you to go to the bathroom at will, isn’t it man?”\n",
            "“It does mean a prescription every time I shower.”\n",
            "“Oh yeah, about the oil change sometimes.”\n",
            "“About when I got the feeling that I had a responsibility as a human being to make sure that everyone was made aware of my work ethic,” I said.\n",
            "“Sometimes the most efficient way to thrash someone up is to ask them why.” A look of concern crossed my face.\n",
            "“I don’t know. It’s just that sometimes I get uncomfortable asking.” At the bottom of my voice I said, ‘Remind me when you have a rambling, rantable narrative.”\n",
            "“Promise me, friend, that I will do my best to help you all.”\n",
            "“I believe so.” A heavy sigh came to me. I tried to steady myself, but my head was starting to feel cold.\n",
            "“You are very concerned with the things of life. There is a reason that you and I live. To be alive and having a conversation about what is and isn’t is very important to me.”\n",
            "“Thank you.” Ms. Fujisaki said.\n",
            "“Thank you for that. I will, soon.” She turned to go away, but I was afraid to, and I became extremely shy again.\n",
            "The next day, I had still not gotten over the awkwardness, so I sulked it off.\n",
            " In the afternoon, during the long, hot sun, we sat down in the\n",
            "\n",
            "[210 | 506.63] loss=0.18 avg=1.16\n",
            "[220 | 530.47] loss=0.09 avg=1.11\n",
            "[230 | 554.32] loss=0.08 avg=1.06\n",
            "[240 | 578.18] loss=0.08 avg=1.01\n",
            "[250 | 602.05] loss=0.08 avg=0.97\n",
            "[260 | 625.87] loss=0.07 avg=0.93\n",
            "[270 | 649.70] loss=0.08 avg=0.89\n",
            "[280 | 673.47] loss=0.07 avg=0.86\n",
            "[290 | 697.26] loss=0.05 avg=0.83\n",
            "[300 | 721.03] loss=0.07 avg=0.80\n",
            "[310 | 744.80] loss=0.05 avg=0.77\n",
            "[320 | 768.55] loss=0.05 avg=0.75\n",
            "[330 | 792.30] loss=0.06 avg=0.72\n",
            "[340 | 816.09] loss=0.04 avg=0.70\n",
            "[350 | 839.89] loss=0.05 avg=0.68\n",
            "[360 | 863.74] loss=0.05 avg=0.66\n",
            "[370 | 887.58] loss=0.05 avg=0.64\n",
            "[380 | 911.44] loss=0.06 avg=0.62\n",
            "[390 | 935.29] loss=0.05 avg=0.60\n",
            "[400 | 959.16] loss=0.09 avg=0.58\n",
            "======== SAMPLE 1 ========\n",
            " back, and so I did as he requested.\n",
            "\tIt was a long and winding tunnel, with many sharp turns and turns, and a grinding noise that echoed. Then, a sharp tunnel disappeared, and another came rushing down the walls, through the bedroom window, and into my already damp on/off door.\n",
            "\t“Who are you, Christian?”\n",
            "\tI felt relieved to be among the many neighbors who had invited me into their home. However, I felt a new fear when they told me that they had seen a third party following me around. This time, it was the alien visitor, who seemed to roam the room agitatedly.\n",
            "\t“Kasumi, are you okay?” Kasumi said. “I are not scared.” She turned to face me. “You have only just experienced the inner turmoil and despair that are coming to you, and you must become aware of this. If you see the face of the Noahl, remember him as your best friend.”\n",
            "\t“Yes, friend, I’m convinced. Yes, I’m convinced.”\n",
            "\t“The truth is, St. John,” I said, shaking my head sadly, “I have real worries.”\n",
            "\tHe told me that I must become more vigilant and secretive, and asked me to go along with him and help them solve a mystery. He told me to spend more time with other people, and to be more self-aware. He told me to visit the places where other people are being tortured or killed. And tell me their name. And tell me how they got their knowledge. And tell me how they were able to come to be here today. And tell me their name is Igor.\n",
            "\tAnd he steeped me in a lie, in which he told me that he had information that would lead him to the places where the truth was being revealed. And he told me to face my fears, and to accept my fears, and to accept my destiny.\n",
            "\tSo I went to his home and found him reclined, using the only lamp on the only floor, in the only place that was dangerous for him to see but his way, and using the proper tone of voice to make the conflict non sequiturs and suggest a different order of occurrence.\n",
            "\tAnd he spent the night in a deep slump, trying to sweetly console himself that his activities had been effective. He hardly remembered what he had seen, but he did remember meagnaptizing him so that I might be brought up on good terms with the aliens.\n",
            "\tSo he and I sat down to dinner and he ordered a few dishes from the dinner plate and began to tirade. Without moving anything more than his mouth, he began to say, “All right, let’s get these cats out of here, and this is, as you know, the alphabet.” And suddenly he began to say…\n",
            "\t“No!” I exclaimed, terrified. “There is no point in discussing this subject with anyone except as a last resort.” I feared he was going off into something further than just a casual banter.\n",
            "\tSo he sat down next to me and started to tell me about his secret, about his new love for the show, and about the magic of cat ears.\n",
            "\t“You make me flowker-kerberine.” He declared. I scoffed. See to this: that I would be ok. See to what?”\n",
            "\tHe said, “You are in reality only a puppet of the mind, and you must master the power of the mind to enjoy yourself. Then you can make the most of every moment that you have available to you.” See to this I would survive.\n",
            "\tAnd I did. And I did okay. The experience was so powerful that I left no room for thought for my dysphoria. It dramatically reduced my motivation and motivation was no longer responsive. The degree to which this was a psychological state was not clear at the time.\n",
            "\tThe issue at hand was a pit bull named Bernard. He was vicious and abusive. I was with him when he beat me with my bare hand, and I helped him clean up the mess that he had made up.\n",
            "\tWhy would he do that? It troubled me, really, that he didn’t do anything wrong. Surely he didn’t love me? Surely he didn’t care? I wondered if it was because of this fear that he mistreated me? If so, he still had my soul, through which all other thoughts and feelings flowed.\n",
            "\tI wondered if he would want me to go to the hospital, if he were to do so, and request that I be examined and healed. I wondered if he thought I should spend the rest of my life in a institution, like the junk yard, but with\n",
            "\n",
            "[410 | 992.96] loss=0.05 avg=0.57\n",
            "[420 | 1016.70] loss=0.06 avg=0.55\n",
            "[430 | 1040.42] loss=0.05 avg=0.54\n",
            "[440 | 1064.16] loss=0.05 avg=0.53\n",
            "[450 | 1087.95] loss=0.05 avg=0.51\n",
            "[460 | 1111.77] loss=0.04 avg=0.50\n",
            "[470 | 1135.60] loss=0.05 avg=0.49\n",
            "[480 | 1159.45] loss=0.05 avg=0.48\n",
            "[490 | 1183.30] loss=0.04 avg=0.47\n",
            "[500 | 1207.15] loss=0.04 avg=0.45\n",
            "Saving checkpoint/stjohn2/model-500\n"
          ],
          "name": "stdout"
        }
      ]
    },
    {
      "cell_type": "markdown",
      "metadata": {
        "id": "IXSuTNERaw6K"
      },
      "source": [
        "After the model is trained, you can copy the checkpoint folder to your own Google Drive.\n",
        "\n",
        "If you want to download it to your personal computer, it's strongly recommended you copy it there first, then download from Google Drive. The checkpoint folder is copied as a `.rar` compressed file; you can download it and uncompress it locally."
      ]
    },
    {
      "cell_type": "code",
      "metadata": {
        "id": "VHdTL8NDbAh3"
      },
      "source": [
        "gpt2.copy_checkpoint_to_gdrive(run_name='stjohn2')"
      ],
      "execution_count": null,
      "outputs": []
    },
    {
      "cell_type": "markdown",
      "metadata": {
        "id": "qQJgV_b4bmzd"
      },
      "source": [
        "You're done! Feel free to go to the **Generate Text From The Trained Model** section to generate text based on your retrained model."
      ]
    },
    {
      "cell_type": "markdown",
      "metadata": {
        "id": "pel-uBULXO2L"
      },
      "source": [
        "## Load a Trained Model Checkpoint\n",
        "\n",
        "Running the next cell will copy the `.rar` checkpoint file from your Google Drive into the Colaboratory VM."
      ]
    },
    {
      "cell_type": "code",
      "metadata": {
        "id": "DCcx5u7sbPTD"
      },
      "source": [
        "gpt2.copy_checkpoint_from_gdrive(run_name='stjohn2')"
      ],
      "execution_count": null,
      "outputs": []
    },
    {
      "cell_type": "markdown",
      "metadata": {
        "id": "RTa6zf3e_9gV"
      },
      "source": [
        "The next cell will allow you to load the retrained model checkpoint + metadata necessary to generate text.\n",
        "\n",
        "**IMPORTANT NOTE:** If you want to rerun this cell, **restart the VM first** (Runtime -> Restart Runtime). You will need to rerun imports but not recopy files."
      ]
    },
    {
      "cell_type": "markdown",
      "metadata": {
        "id": "BYfzXT0Z9S3L"
      },
      "source": [
        "IF VARIABLE MODEL/WPE ALREADY EXISTS, Reset THE TENSORFLOW SESS CELL\n"
      ]
    },
    {
      "cell_type": "code",
      "metadata": {
        "id": "-fxL77nvAMAX",
        "colab": {
          "base_uri": "https://localhost:8080/"
        },
        "outputId": "c230acb6-435f-45d0-d5f9-055a5938d094"
      },
      "source": [
        "tf.reset_default_graph()\n",
        "sess = gpt2.start_tf_sess()\n",
        "gpt2.load_gpt2(sess, run_name='stjohn2')"
      ],
      "execution_count": null,
      "outputs": [
        {
          "output_type": "stream",
          "text": [
            "Loading checkpoint checkpoint/stjohn2/model-500\n",
            "INFO:tensorflow:Restoring parameters from checkpoint/stjohn2/model-500\n"
          ],
          "name": "stdout"
        }
      ]
    },
    {
      "cell_type": "markdown",
      "metadata": {
        "id": "ClJwpF_ACONp"
      },
      "source": [
        "## Generate Text From The Trained Model\n",
        "\n",
        "After you've trained the model or loaded a retrained model from checkpoint, you can now generate text. `generate` generates a single text from the loaded model."
      ]
    },
    {
      "cell_type": "code",
      "metadata": {
        "id": "4RNY6RBI9LmL"
      },
      "source": [
        "gpt2.generate(sess, run_name='stjohn2')"
      ],
      "execution_count": null,
      "outputs": []
    },
    {
      "cell_type": "code",
      "metadata": {
        "id": "9tWnNDdfaRkz",
        "colab": {
          "base_uri": "https://localhost:8080/"
        },
        "outputId": "6b0f4b34-15d0-4422-f672-f678abc7e333"
      },
      "source": [
        "gpt2.generate(sess, run_name='stjohn2', prefix=\"\"\"\r\n",
        "Because I finally realized that I only had one life! And that I was blessed to be alive for even a moment was greater than the greatest gift I could have ever asked for.\r\n",
        "\"\"\", temperature=0.75, top_k=15)"
      ],
      "execution_count": null,
      "outputs": [
        {
          "output_type": "stream",
          "text": [
            "Because I finally realized that I only had one life! And that I was blessed to be alive for even a moment was greater than the greatest gift I could have ever asked for.\n",
            "And then I realized that I was giving back to the world a life-long obsession I had for the entertainment of fortune-tellers for many hours a week. The tales I was seeing were so popular that they became a part of everyday life for the most part.\n",
            "\n",
            "It was a life of freedom, but this was also something that I was eager to share. I was miserable, and in pain, and in need of help. Every moment that I was taking these tales represented a short period of my being in this new environment.\n",
            "And yet I was always present in the waking hours, making plans with my crystal-clear blue-green eyes to detect a moment of weakness or neglect. This was something I hadlearned at the hands of Orochimaru, that I had to live with. He told me to find my own voice and speak up against the sealing, to express my confusion and insecurities. And he told me to spend more time with other people, emotionally, than I had in so many years. And once I had been emotionally closer to him, however, I had no longerhave the energy to express myself any longer.I was then about to die, at the hands of this great being.\n",
            "\n",
            "“Destroy this being and bring him onto earth.”\n",
            " promise first-hand\n",
            "\n",
            "everything that he taught me\n",
            "\n",
            "“Oooh, Tenisha, can you believe that youre still alive, dude?”\n",
            "“Yeah, I can’t deny that. It’s so cool to be part of the alien life form centrico…\n",
            "\n",
            "“And finally, who created st. john’s noodle shop?”\n",
            "“Oh yeah, everything, heil u’t know?”\n",
            "“Uhh… u’ll know what i’ve mentioned before, kiddo? uhh… u’ll’ll know who st. john’s noodle shop is. \n",
            "“It’s called… “The Last Word.'s words had a powerful echo in my conscience, a constant whispering in the halls of power, and it shocked me.\n",
            "“Who created st. john’s noodle shop?” I asked fervently.\n",
            "“Oh, uhh, all of yer own making, kiddo.” Of course, I could find all of yer own creative types, because I was nippy-cuddling all of ukuleles all day, hard, talking about how much I admired the guy who nippy-cuckolded me! Hm. A funny thing is, all of the sudden I was talking about was ucking-wistful thinking about how racist it would be to say the moon’s face when it was tiny! And of course, there was the little green snake running toward me from the shadows!\n",
            "“Who said nippy-cuckoo-jerk?” I asked.\n",
            "“Who said that snake had to be tiny?” The voice of the little green snake sounded so familiar to me that I almost dropped my food, but I was too embarrassed to say anything, so I just stared dumbfounded at the ceiling. Wondering if it was okay to sneeze in the morning darkness, I went to my knees and pretended not to know what sneezes and wheezes mean.\n",
            "“Snake, how are you feeling?” The voice of the little green snake was so strong that I could have pulled out a Super Mario Odyssey and used it against the little green snake. But the power of the sneeze and the pressure it put on my body were so great that I couldn’t let them go. I pretended that I was in pain and then St. John brought me down to the ground, where I was covered in gauze and put through a bandage.\n",
            "“You are in great pain, Christian. You must come down to the St. John’s General Hospital, and ask for help.” I told him that I was feeling very ill, and he asked me to come, to visit him. There was a knock at the door, and I entered it was not like the hallway that I was in, it was like a second floor. There was also the feeling that I was trying to fleece the door during my visit to the hospital.\n",
            "No more noises! I had stayed in my hotel room, in the first place, and was in good spirits. All throughout the day I labored and I sweat. The work seemed impossible. I nearly bled and almost screamed. St. John looked at me and tried to reassure me.\n",
            "\n"
          ],
          "name": "stdout"
        }
      ]
    },
    {
      "cell_type": "markdown",
      "metadata": {
        "id": "oF4-PqF0Fl7R"
      },
      "source": [
        "If you're creating an API based on your model and need to pass the generated text elsewhere, you can do `text = gpt2.generate(sess, return_as_list=True)[0]`\n",
        "\n",
        "You can also pass in a `prefix` to the generate function to force the text to start with a given character sequence and generate text from there (good if you add an indicator when the text starts).\n",
        "\n",
        "You can also generate multiple texts at a time by specifing `nsamples`. Unique to GPT-2, you can pass a `batch_size` to generate multiple samples in parallel, giving a massive speedup (in Colaboratory, set a maximum of 20 for `batch_size`).\n",
        "\n",
        "Other optional-but-helpful parameters for `gpt2.generate` and friends:\n",
        "\n",
        "*  **`length`**: Number of tokens to generate (default 1023, the maximum)\n",
        "* **`temperature`**: The higher the temperature, the crazier the text (default 0.7, recommended to keep between 0.7 and 1.0)\n",
        "* **`top_k`**: Limits the generated guesses to the top *k* guesses (default 0 which disables the behavior; if the generated output is super crazy, you may want to set `top_k=40`)\n",
        "* **`top_p`**: Nucleus sampling: limits the generated guesses to a cumulative probability. (gets good results on a dataset with `top_p=0.9`)\n",
        "* **`truncate`**: Truncates the input text until a given sequence, excluding that sequence (e.g. if `truncate='<|endoftext|>'`, the returned text will include everything before the first `<|endoftext|>`). It may be useful to combine this with a smaller `length` if the input texts are short.\n",
        "*  **`include_prefix`**: If using `truncate` and `include_prefix=False`, the specified `prefix` will not be included in the returned text."
      ]
    },
    {
      "cell_type": "code",
      "metadata": {
        "id": "kZboT8iLKwTp"
      },
      "source": [
        "prefix = \"\"\"\n",
        "\"Please, help me, St. John!\" I cried with my eyes to the sky.\n",
        "\"\"\""
      ],
      "execution_count": null,
      "outputs": []
    },
    {
      "cell_type": "code",
      "metadata": {
        "id": "8DKMc0fiej4N"
      },
      "source": [
        "gpt2.generate(sess,\n",
        "              length=100,\n",
        "              temperature=0.9,\n",
        "              top_k=250,\n",
        "              top_p=0.8,\n",
        "              prefix=prefix,\n",
        "              nsamples=10,\n",
        "              batch_size=10\n",
        "              )"
      ],
      "execution_count": null,
      "outputs": []
    },
    {
      "cell_type": "markdown",
      "metadata": {
        "id": "zjjEN2Tafhl2"
      },
      "source": [
        "For bulk generation, you can generate a large amount of text to a file and sort out the samples locally on your computer. The next cell will generate a generated text file with a unique timestamp.\n",
        "\n",
        "You can rerun the cells as many times as you want for even more generated texts!"
      ]
    },
    {
      "cell_type": "code",
      "metadata": {
        "id": "Fa6p6arifSL0"
      },
      "source": [
        "gen_file = 'gpt2_gentext_{:%Y%m%d_%H%M%S}.txt'.format(datetime.utcnow())\n",
        "\n",
        "gpt2.generate_to_file(sess,\n",
        "                      destination_path=gen_file,\n",
        "                      length=500,\n",
        "                      temperature=0.7,\n",
        "                      nsamples=100,\n",
        "                      batch_size=20\n",
        "                      )"
      ],
      "execution_count": null,
      "outputs": []
    },
    {
      "cell_type": "code",
      "metadata": {
        "id": "0-LRex8lfv1g"
      },
      "source": [
        "# may have to run twice to get file to download\n",
        "files.download(gen_file)"
      ],
      "execution_count": null,
      "outputs": []
    },
    {
      "cell_type": "markdown",
      "metadata": {
        "id": "QQAN3M6RT7Kj"
      },
      "source": [
        "## Generate Text From The Pretrained Model\n",
        "\n",
        "If you want to generate text from the pretrained model, not a finetuned model, pass `model_name` to `gpt2.load_gpt2()` and `gpt2.generate()`.\n",
        "\n",
        "This is currently the only way to generate text from the 774M or 1558M models with this notebook."
      ]
    },
    {
      "cell_type": "code",
      "metadata": {
        "id": "hsUd_jHgUZnD"
      },
      "source": [
        "model_name = \"774M\"\n",
        "\n",
        "gpt2.download_gpt2(model_name=model_name)"
      ],
      "execution_count": null,
      "outputs": []
    },
    {
      "cell_type": "code",
      "metadata": {
        "id": "BAe4NpKNUj2C"
      },
      "source": [
        "sess = gpt2.start_tf_sess()\n",
        "\n",
        "gpt2.load_gpt2(sess, model_name=model_name)"
      ],
      "execution_count": null,
      "outputs": []
    },
    {
      "cell_type": "code",
      "metadata": {
        "id": "-xInIZKaU104"
      },
      "source": [
        "gpt2.generate(sess,\n",
        "              model_name=model_name,\n",
        "              prefix=\"The secret of life is\",\n",
        "              length=100,\n",
        "              temperature=0.7,\n",
        "              top_p=0.9,\n",
        "              nsamples=5,\n",
        "              batch_size=5\n",
        "              )"
      ],
      "execution_count": null,
      "outputs": []
    },
    {
      "cell_type": "markdown",
      "metadata": {
        "id": "ig-KVgkCDCKD"
      },
      "source": [
        "# Etcetera\n",
        "\n",
        "If the notebook has errors (e.g. GPU Sync Fail), force-kill the Colaboratory virtual machine and restart it with the command below:"
      ]
    },
    {
      "cell_type": "code",
      "metadata": {
        "id": "rIHiVP53FnsX"
      },
      "source": [
        "!kill -9 -1"
      ],
      "execution_count": null,
      "outputs": []
    },
    {
      "cell_type": "markdown",
      "metadata": {
        "id": "wmTXWNUygS5E"
      },
      "source": [
        "# LICENSE\n",
        "\n",
        "MIT License\n",
        "\n",
        "Copyright (c) 2019 Max Woolf\n",
        "\n",
        "Permission is hereby granted, free of charge, to any person obtaining a copy\n",
        "of this software and associated documentation files (the \"Software\"), to deal\n",
        "in the Software without restriction, including without limitation the rights\n",
        "to use, copy, modify, merge, publish, distribute, sublicense, and/or sell\n",
        "copies of the Software, and to permit persons to whom the Software is\n",
        "furnished to do so, subject to the following conditions:\n",
        "\n",
        "The above copyright notice and this permission notice shall be included in all\n",
        "copies or substantial portions of the Software.\n",
        "\n",
        "THE SOFTWARE IS PROVIDED \"AS IS\", WITHOUT WARRANTY OF ANY KIND, EXPRESS OR\n",
        "IMPLIED, INCLUDING BUT NOT LIMITED TO THE WARRANTIES OF MERCHANTABILITY,\n",
        "FITNESS FOR A PARTICULAR PURPOSE AND NONINFRINGEMENT. IN NO EVENT SHALL THE\n",
        "AUTHORS OR COPYRIGHT HOLDERS BE LIABLE FOR ANY CLAIM, DAMAGES OR OTHER\n",
        "LIABILITY, WHETHER IN AN ACTION OF CONTRACT, TORT OR OTHERWISE, ARISING FROM,\n",
        "OUT OF OR IN CONNECTION WITH THE SOFTWARE OR THE USE OR OTHER DEALINGS IN THE\n",
        "SOFTWARE."
      ]
    }
  ]
}